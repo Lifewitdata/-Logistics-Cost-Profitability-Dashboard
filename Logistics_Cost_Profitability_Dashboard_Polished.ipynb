{
 "cells": [
  {
   "cell_type": "markdown",
   "id": "add47c45",
   "metadata": {},
   "source": [
    "# 📊 Logistics Cost & Profitability Dashboard\n",
    "This project analyzes logistics shipment data to evaluate **delivery costs, revenues, and profitability** across cities and routes.\n",
    "It simulates how a data analyst at FedEx (or a similar logistics company) would generate insights to optimize operations and improve margins."
   ]
  },
  {
   "cell_type": "markdown",
   "id": "4e5faa3c",
   "metadata": {},
   "source": [
    "## 🔹 Business Requirements\n",
    "- Track **average delivery cost** across cities and regions\n",
    "- Measure **gross margin %** per shipment and overall\n",
    "- Calculate **total net profit** after costs & payouts\n",
    "- Identify **profitable vs. loss-making routes**\n",
    "- Provide actionable insights for process improvements"
   ]
  },
  {
   "cell_type": "markdown",
   "id": "ebfbd28c",
   "metadata": {},
   "source": [
    "## 📂 Data Preparation & Loading"
   ]
  },
  {
   "cell_type": "code",
   "execution_count": null,
   "id": "6072532c",
   "metadata": {},
   "outputs": [],
   "source": [
    "\n",
    "import sqlite3\n",
    "import pandas as pd\n",
    "\n",
    "# Load raw data\n",
    "df = pd.read_csv(\"shipments.csv\")\n",
    "df.head()\n"
   ]
  },
  {
   "cell_type": "code",
   "execution_count": null,
   "id": "d21e76fa",
   "metadata": {},
   "outputs": [],
   "source": [
    "\n",
    "# Store shipment data into SQLite for structured queries\n",
    "conn = sqlite3.connect(\"logistics_finance.db\")\n",
    "df.to_sql(\"shipments\", conn, if_exists=\"replace\", index=False)\n"
   ]
  },
  {
   "cell_type": "markdown",
   "id": "0b69e315",
   "metadata": {},
   "source": [
    "## 📈 Data Analysis & Insights"
   ]
  },
  {
   "cell_type": "markdown",
   "id": "5d550f66",
   "metadata": {},
   "source": [
    "### 1. Average Delivery Cost per City"
   ]
  },
  {
   "cell_type": "code",
   "execution_count": null,
   "id": "7d0c6d5f",
   "metadata": {},
   "outputs": [],
   "source": [
    "\n",
    "query = \"\"\"\n",
    "SELECT city,\n",
    "       AVG(delivery_cost) AS avg_cost\n",
    "FROM shipments\n",
    "GROUP BY city\n",
    "ORDER BY avg_cost DESC\n",
    "\"\"\"\n",
    "pd.read_sql_query(query, conn)\n"
   ]
  },
  {
   "cell_type": "markdown",
   "id": "d0f0a01c",
   "metadata": {},
   "source": [
    "### 2. Average Gross Margin %"
   ]
  },
  {
   "cell_type": "code",
   "execution_count": null,
   "id": "d1a49c1b",
   "metadata": {},
   "outputs": [],
   "source": [
    "\n",
    "query = \"\"\"\n",
    "SELECT AVG((revenue - delivery_cost) / revenue * 100) AS avg_gross_margin_pct\n",
    "FROM shipments;\n",
    "\"\"\"\n",
    "pd.read_sql_query(query, conn)\n"
   ]
  },
  {
   "cell_type": "markdown",
   "id": "da3d94b9",
   "metadata": {},
   "source": [
    "### 3. Total Net Profit"
   ]
  },
  {
   "cell_type": "code",
   "execution_count": null,
   "id": "160bf3c5",
   "metadata": {},
   "outputs": [],
   "source": [
    "\n",
    "query = \"\"\"\n",
    "SELECT SUM(revenue - (delivery_cost + rider_payout)) AS total_net_profit\n",
    "FROM shipments;\n",
    "\"\"\"\n",
    "pd.read_sql_query(query, conn)\n"
   ]
  },
  {
   "cell_type": "markdown",
   "id": "b4dfd28c",
   "metadata": {},
   "source": [
    "### 4. Route-Level Profitability"
   ]
  },
  {
   "cell_type": "code",
   "execution_count": null,
   "id": "04af5be0",
   "metadata": {},
   "outputs": [],
   "source": [
    "\n",
    "query = \"\"\"\n",
    "SELECT\n",
    "    route_id,\n",
    "    COUNT(*) AS total_orders,\n",
    "    SUM(revenue) AS total_revenue,\n",
    "    SUM(delivery_cost + rider_payout) AS total_cost,\n",
    "    SUM(revenue - (delivery_cost + rider_payout)) AS net_profit,\n",
    "    ROUND(SUM(revenue - (delivery_cost + rider_payout))*100.0/SUM(revenue),2) AS profit_margin_pct\n",
    "FROM shipments\n",
    "GROUP BY route_id\n",
    "ORDER BY net_profit DESC\n",
    "\"\"\"\n",
    "pd.read_sql_query(query, conn)\n"
   ]
  },
  {
   "cell_type": "markdown",
   "id": "09b23459",
   "metadata": {},
   "source": [
    "## 📊 Visualizations (Optional)\n",
    "- Profitability by City (bar chart)\n",
    "- Cost vs. Revenue trend over time (line chart)\n",
    "- Profit margin distribution (histogram)\n",
    "\n",
    "(Add plots with Matplotlib/Seaborn/Plotly here)"
   ]
  },
  {
   "cell_type": "markdown",
   "id": "b49061b7",
   "metadata": {},
   "source": [
    "## 💡 Key Business Insights\n",
    "- Cities with **highest avg delivery costs** can be targeted for cost optimization\n",
    "- Average gross margin % provides a baseline for profitability health\n",
    "- Routes with **negative margins** highlight areas for rerouting or renegotiation\n",
    "- Top 20% routes likely contribute to the majority of profit (Pareto principle)\n",
    "- Simulating cost reduction (e.g., -10% fuel cost) could significantly boost margins"
   ]
  },
  {
   "cell_type": "markdown",
   "id": "54f2a722",
   "metadata": {},
   "source": [
    "## ✅ Conclusion & Recommendations\n",
    "- Identified profitable vs. loss-making routes for strategic focus\n",
    "- Recommended operational changes for cost-heavy cities\n",
    "- Dashboard framework can be extended for **predictive analysis** (forecast delays, profitability trends)\n",
    "- Supports data-driven decision-making for logistics optimization"
   ]
  }
 ],
 "metadata": {
  "colab": {
   "provenance": []
  },
  "kernelspec": {
   "display_name": "Python 3",
   "name": "python3"
  },
  "language_info": {
   "name": "python"
  }
 },
 "nbformat": 4,
 "nbformat_minor": 5
}
